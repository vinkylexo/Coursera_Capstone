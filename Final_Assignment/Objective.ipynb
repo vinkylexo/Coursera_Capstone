{
    "nbformat_minor": 1, 
    "cells": [
        {
            "source": "\nObjective\n============\n", 
            "cell_type": "markdown", 
            "metadata": {
                "collapsed": true
            }
        }, 
        {
            "source": "This project aims to build a *preliminary* recommendation system for hotel site selection in Hong Kong, which will provide the real estate companies with basic ideas about where to build a new hotel and which class of hotel is better. ", 
            "cell_type": "markdown", 
            "metadata": {}
        }, 
        {
            "source": "When choosing the hotel location, the land price and construction cost must be considered. However, due to complexity of these data, they will be excluded from the analysis.\n", 
            "cell_type": "markdown", 
            "metadata": {}
        }, 
        {
            "source": "The project will only focus on *surrounding venues* such as restaurants, parks, shopping malls and other points of interest. ", 
            "cell_type": "markdown", 
            "metadata": {}
        }, 
        {
            "execution_count": null, 
            "cell_type": "code", 
            "metadata": {}, 
            "outputs": [], 
            "source": ""
        }
    ], 
    "metadata": {
        "kernelspec": {
            "display_name": "Python 3.5", 
            "name": "python3", 
            "language": "python"
        }, 
        "language_info": {
            "mimetype": "text/x-python", 
            "nbconvert_exporter": "python", 
            "version": "3.5.5", 
            "name": "python", 
            "file_extension": ".py", 
            "pygments_lexer": "ipython3", 
            "codemirror_mode": {
                "version": 3, 
                "name": "ipython"
            }
        }
    }, 
    "nbformat": 4
}